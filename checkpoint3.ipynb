{
 "cells": [
  {
   "cell_type": "raw",
   "id": "015a53f7-c608-4b23-aaad-775ca8ddb6f7",
   "metadata": {},
   "source": [
    "#creer une calculatrice"
   ]
  },
  {
   "cell_type": "code",
   "execution_count": 20,
   "id": "ba3c247c-9932-41ff-a50d-e5bd091ac835",
   "metadata": {},
   "outputs": [
    {
     "name": "stdout",
     "output_type": "stream",
     "text": [
      "Bienvenue dans la calculatrice simple!\n"
     ]
    },
    {
     "name": "stdin",
     "output_type": "stream",
     "text": [
      "saisissez le premier nombre: 2\n",
      "saisissez le deuxieme nombre: 5\n",
      "entrer un operateur(+,-,*,/) -\n"
     ]
    },
    {
     "name": "stdout",
     "output_type": "stream",
     "text": [
      "le resultat est:-3.0\n"
     ]
    },
    {
     "name": "stdin",
     "output_type": "stream",
     "text": [
      "voulez vous effectuer un autre calcul?(oui/non) non\n"
     ]
    },
    {
     "name": "stdout",
     "output_type": "stream",
     "text": [
      "merci d'avoir utilise la calculatrice!\n"
     ]
    }
   ],
   "source": [
    "def calculatrice():\n",
    "\n",
    "    print(\"Bienvenue dans la calculatrice simple!\")\n",
    "\n",
    "    try:\n",
    "#saisie de deux nombres\n",
    "        num1=float(input(\"saisissez le premier nombre:\"))\n",
    "        num2=float(input(\"saisissez le deuxieme nombre:\"))\n",
    "#demander a l'utilisateur d'entrer l'operateur\n",
    "        operateur=input(\"entrer un operateur(+,-,*,/)\")\n",
    "    except ValueError:\n",
    "        print(\"Erreur:entrez des nombres valides.\")\n",
    "        return\n",
    "#effectuer l'operation en fonction de l'operateur \n",
    "    if operateur==\"+\":\n",
    "        resultat=num1+num2\n",
    "    elif operateur==\"-\":\n",
    "        resultat=num1-num2\n",
    "    elif operateur==\"*\":\n",
    "        resultat=num1*num2\n",
    "    elif operateur==\"/\":\n",
    "        if num2==0:\n",
    "            print(\"Erreur,division par zero impossible\")\n",
    "            return\n",
    "        resultat=num1/num2\n",
    "    else:\n",
    "        print(\"operateur invalide\")\n",
    "        return\n",
    "           \n",
    "#Afficher le resultat\n",
    "    print(f\"le resultat est:{resultat}\")\n",
    "#Boucle principale pour pemettre plusieurs calculs \n",
    "while True:\n",
    "    calculatrice()\n",
    "    choix=input(\"voulez vous effectuer un autre calcul?(oui/non)\")\n",
    "    if choix==\"non\":\n",
    "        print(\"merci d'avoir utilise la calculatrice!\")\n",
    "        break"
   ]
  },
  {
   "cell_type": "code",
   "execution_count": null,
   "id": "cb49cef0-e6a9-47e0-93e5-6ac9db0a63f5",
   "metadata": {},
   "outputs": [],
   "source": []
  }
 ],
 "metadata": {
  "kernelspec": {
   "display_name": "Python 3 (ipykernel)",
   "language": "python",
   "name": "python3"
  },
  "language_info": {
   "codemirror_mode": {
    "name": "ipython",
    "version": 3
   },
   "file_extension": ".py",
   "mimetype": "text/x-python",
   "name": "python",
   "nbconvert_exporter": "python",
   "pygments_lexer": "ipython3",
   "version": "3.12.7"
  }
 },
 "nbformat": 4,
 "nbformat_minor": 5
}
