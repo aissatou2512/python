{
 "cells": [
  {
   "cell_type": "code",
   "execution_count": 2,
   "id": "171289fd-cbb2-4d46-b3b4-e91efa937b72",
   "metadata": {},
   "outputs": [
    {
     "name": "stdin",
     "output_type": "stream",
     "text": [
      "Entrez le nombre d'étudiants :  2\n",
      "Entrez le nombre de matières :  3\n"
     ]
    },
    {
     "name": "stdout",
     "output_type": "stream",
     "text": [
      "\n",
      "Saisie des notes pour l'étudiant 1:\n"
     ]
    },
    {
     "name": "stdin",
     "output_type": "stream",
     "text": [
      "Entrez la note pour la matière 1 :  85\n",
      "Entrez la note pour la matière 2 :  90\n",
      "Entrez la note pour la matière 3 :  70\n"
     ]
    },
    {
     "name": "stdout",
     "output_type": "stream",
     "text": [
      "\n",
      "Saisie des notes pour l'étudiant 2:\n"
     ]
    },
    {
     "name": "stdin",
     "output_type": "stream",
     "text": [
      "Entrez la note pour la matière 1 :  55\n",
      "Entrez la note pour la matière 2 :  85\n",
      "Entrez la note pour la matière 3 :  40\n"
     ]
    },
    {
     "name": "stdout",
     "output_type": "stream",
     "text": [
      "\n",
      "Résultats des étudiants :\n",
      "Etudiant   Notes Totales   Pourcentage     Mention   \n",
      "Etudiant 1 245.00          81.67           A         \n",
      "Etudiant 2 180.00          60.00           B         \n"
     ]
    }
   ],
   "source": [
    "import numpy as np\n",
    "\n",
    "#saisie du nombre d'etudiants et du nombre de matières\n",
    "nombre_etudiants = int(input(\"Entrez le nombre d'étudiants : \"))\n",
    "nombre_matieres = int(input(\"Entrez le nombre de matières : \"))\n",
    "\n",
    "#tableau NumPy pour stocker les notes de chaque etudiant dans chaque matiere\n",
    "notes = np.zeros((nombre_etudiants, nombre_matieres))\n",
    "\n",
    "#saisie des notes de chaque etudiant dans chaque matiere\n",
    "for i in range(nombre_etudiants):\n",
    "    print(f\"\\nSaisie des notes pour l'étudiant {i+1}:\")\n",
    "    for j in range(nombre_matieres):\n",
    "        notes[i, j] = float(input(f\"Entrez la note pour la matière {j+1} : \"))\n",
    "\n",
    "#calculons les notes totales pour chaque etudiant\n",
    "notes_totales = np.sum(notes, axis=1)\n",
    "\n",
    "#calculons le pourcentage pour chaque etudiant\n",
    "pourcentages = (notes_totales / (nombre_matieres * 100)) * 100\n",
    "\n",
    "#determinons la mention en fonction du pourcentage\n",
    "def determiner_mention(pourcentage):\n",
    "    if pourcentage >= 90:\n",
    "        return \"A+\"\n",
    "    elif pourcentage >= 80:\n",
    "        return \"A\"\n",
    "    elif pourcentage >= 70:\n",
    "        return \"B+\"\n",
    "    elif pourcentage >= 60:\n",
    "        return \"B\"\n",
    "    elif pourcentage >= 50:\n",
    "        return \"C\"\n",
    "    else:\n",
    "        return \"F\"\n",
    "\n",
    "#determinons la mention pour chaque etudiant\n",
    "mentions = [determiner_mention(pourcentage) for pourcentage in pourcentages]\n",
    "\n",
    "#affichons les résultats dans un format tabulaire\n",
    "print(\"\\nRésultats des étudiants :\")\n",
    "print(\"{:<10} {:<15} {:<15} {:<10}\".format(\"Etudiant\", \"Notes Totales\", \"Pourcentage\", \"Mention\"))\n",
    "for i in range(nombre_etudiants):\n",
    "    print(\"{:<10} {:<15.2f} {:<15.2f} {:<10}\".format(f\"Etudiant {i+1}\", notes_totales[i], pourcentages[i], mentions[i]))"
   ]
  },
  {
   "cell_type": "code",
   "execution_count": null,
   "id": "85cc0b84-a36a-419a-b886-1b263931da49",
   "metadata": {},
   "outputs": [],
   "source": []
  }
 ],
 "metadata": {
  "kernelspec": {
   "display_name": "Python 3 (ipykernel)",
   "language": "python",
   "name": "python3"
  },
  "language_info": {
   "codemirror_mode": {
    "name": "ipython",
    "version": 3
   },
   "file_extension": ".py",
   "mimetype": "text/x-python",
   "name": "python",
   "nbconvert_exporter": "python",
   "pygments_lexer": "ipython3",
   "version": "3.12.7"
  }
 },
 "nbformat": 4,
 "nbformat_minor": 5
}
