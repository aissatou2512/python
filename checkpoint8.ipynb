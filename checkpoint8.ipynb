{
 "cells": [
  {
   "cell_type": "markdown",
   "id": "6d6849dc-55e0-450f-85a4-b77501024505",
   "metadata": {},
   "source": [
    "Écrire un programme Python pour lire un fichier texte entier."
   ]
  },
  {
   "cell_type": "code",
   "execution_count": 6,
   "id": "e0dbb756-43aa-45a4-b111-51dbd7e0388c",
   "metadata": {},
   "outputs": [
    {
     "name": "stdout",
     "output_type": "stream",
     "text": [
      "This is my first file\n",
      "This file\n",
      "contains three lines\n"
     ]
    }
   ],
   "source": [
    "#ouvrir un fichier \n",
    "with open(\"test.txt\",\"r\",encoding='utf-8') as fichier:\n",
    "#lire le ontenu du fichier \n",
    "    contenu=fichier.read()\n",
    "    print(contenu)"
   ]
  },
  {
   "cell_type": "code",
   "execution_count": 14,
   "id": "bfb5507e-b313-478e-ac3c-6f733305c4f4",
   "metadata": {},
   "outputs": [
    {
     "name": "stdout",
     "output_type": "stream",
     "text": [
      "This is my first file\n",
      "This file\n"
     ]
    }
   ],
   "source": [
    "#Écrire un programme Python pour lire ls n premières lignes d'un fichier\n",
    "def lire_premieres_lignes(test, n):\n",
    "    with open(test, 'r') as fichier:\n",
    "        for i in range(n):\n",
    "            ligne = fichier.readline()\n",
    "            if ligne == '':\n",
    "                break\n",
    "            print(ligne.strip())\n",
    "\n",
    "# exemple d'utilisation\n",
    "lire_premieres_lignes('test.txt', 2)"
   ]
  },
  {
   "cell_type": "code",
   "execution_count": 18,
   "id": "b2800231-3d4e-4020-89f5-0680c88a8c18",
   "metadata": {},
   "outputs": [
    {
     "ename": "AttributeError",
     "evalue": "'list' object has no attribute 'strip'",
     "output_type": "error",
     "traceback": [
      "\u001b[1;31m---------------------------------------------------------------------------\u001b[0m",
      "\u001b[1;31mAttributeError\u001b[0m                            Traceback (most recent call last)",
      "Cell \u001b[1;32mIn[18], line 11\u001b[0m\n\u001b[0;32m      8\u001b[0m             \u001b[38;5;28mprint\u001b[39m(ligne\u001b[38;5;241m.\u001b[39mstrip())\n\u001b[0;32m     10\u001b[0m \u001b[38;5;66;03m#exemple d'utilisation\u001b[39;00m\n\u001b[1;32m---> 11\u001b[0m lire_dernieres_lignes(\u001b[38;5;124m'\u001b[39m\u001b[38;5;124mtest.txt\u001b[39m\u001b[38;5;124m'\u001b[39m,\u001b[38;5;241m2\u001b[39m)\n",
      "Cell \u001b[1;32mIn[18], line 8\u001b[0m, in \u001b[0;36mlire_dernieres_lignes\u001b[1;34m(test, n)\u001b[0m\n\u001b[0;32m      6\u001b[0m \u001b[38;5;28;01mif\u001b[39;00m ligne\u001b[38;5;241m==\u001b[39m\u001b[38;5;124m'\u001b[39m\u001b[38;5;124m'\u001b[39m:\n\u001b[0;32m      7\u001b[0m     \u001b[38;5;28;01mbreak\u001b[39;00m\n\u001b[1;32m----> 8\u001b[0m \u001b[38;5;28mprint\u001b[39m(ligne\u001b[38;5;241m.\u001b[39mstrip())\n",
      "\u001b[1;31mAttributeError\u001b[0m: 'list' object has no attribute 'strip'"
     ]
    }
   ],
   "source": [
    "#Écrire un programme Python pour lire les n dernières lignes d'un fichier.\n",
    "def lire_dernieres_lignes(test,n):\n",
    "    with open(test,'r') as fichier: \n",
    "        for i in range(n):\n",
    "            ligne=fichier.readlines()\n",
    "            if ligne=='':\n",
    "                break\n",
    "            print(ligne.strip())\n",
    "\n",
    "#exemple d'utilisation\n",
    "lire_dernieres_lignes('test.txt',2)"
   ]
  },
  {
   "cell_type": "code",
   "execution_count": 22,
   "id": "d73e42b2-8094-41a7-8a2b-5f7e85f3c674",
   "metadata": {},
   "outputs": [
    {
     "ename": "NameError",
     "evalue": "name 'test' is not defined",
     "output_type": "error",
     "traceback": [
      "\u001b[1;31m---------------------------------------------------------------------------\u001b[0m",
      "\u001b[1;31mNameError\u001b[0m                                 Traceback (most recent call last)",
      "Cell \u001b[1;32mIn[22], line 8\u001b[0m\n\u001b[0;32m      5\u001b[0m         mots \u001b[38;5;241m=\u001b[39m contenu\u001b[38;5;241m.\u001b[39msplit()\n\u001b[0;32m      6\u001b[0m         \u001b[38;5;28;01mreturn\u001b[39;00m \u001b[38;5;28mlen\u001b[39m(mots)\n\u001b[1;32m----> 8\u001b[0m nombre_de_mots \u001b[38;5;241m=\u001b[39m compter_mots(test)\n\u001b[0;32m      9\u001b[0m \u001b[38;5;28mprint\u001b[39m(nombre_de_mots)\n",
      "\u001b[1;31mNameError\u001b[0m: name 'test' is not defined"
     ]
    }
   ],
   "source": [
    "#Écrivez un programme Python qui prend un fichier texte en entrée et renvoie le nombre de mots de ce fichier texte.\n",
    "def compter_mots(test):\n",
    "    with open(test, 'r') as fichier:\n",
    "        contenu = fichier.read()\n",
    "        mots = contenu.split()\n",
    "        return len(mots)\n",
    "test=\n",
    "nombre_de_mots = compter_mots(test)\n",
    "print(nombre_de_mots)"
   ]
  },
  {
   "cell_type": "code",
   "execution_count": null,
   "id": "9ee2cd93-19c5-4b1f-9e8d-f4b076a95958",
   "metadata": {},
   "outputs": [],
   "source": []
  }
 ],
 "metadata": {
  "kernelspec": {
   "display_name": "Python [conda env:base] *",
   "language": "python",
   "name": "conda-base-py"
  },
  "language_info": {
   "codemirror_mode": {
    "name": "ipython",
    "version": 3
   },
   "file_extension": ".py",
   "mimetype": "text/x-python",
   "name": "python",
   "nbconvert_exporter": "python",
   "pygments_lexer": "ipython3",
   "version": "3.12.7"
  }
 },
 "nbformat": 4,
 "nbformat_minor": 5
}
