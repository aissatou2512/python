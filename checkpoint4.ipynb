{
 "cells": [
  {
   "cell_type": "markdown",
   "id": "f19aae8b-68e4-4c54-90ba-3982dd1a3d08",
   "metadata": {},
   "source": [
    "1"
   ]
  },
  {
   "cell_type": "code",
   "execution_count": 2,
   "id": "ba0ee89e-3f9f-47da-9b74-e910eae12ee2",
   "metadata": {},
   "outputs": [
    {
     "name": "stdout",
     "output_type": "stream",
     "text": [
      "1,2,3\n"
     ]
    }
   ],
   "source": [
    "\n",
    "class Point3D:\n",
    "    def __init__(self,x,y,z):\n",
    "        self.x=x\n",
    "        self.y=y\n",
    "        self.z=z\n",
    "\n",
    "    def __repr__(self):\n",
    "        return(f\"{self.x},{self.y},{self.z}\")\n",
    "\n",
    "#creation d'une instance du point 3D\n",
    "my_point=Point3D(1,2,3)\n",
    "#Affichage du point\n",
    "print(my_point)"
   ]
  },
  {
   "cell_type": "markdown",
   "id": "9b3de036-6e91-4874-9ea2-c97e27ff2133",
   "metadata": {},
   "source": [
    "2"
   ]
  },
  {
   "cell_type": "code",
   "execution_count": 3,
   "id": "29033322-a06c-4976-a654-553c53b9e9d8",
   "metadata": {},
   "outputs": [
    {
     "name": "stdout",
     "output_type": "stream",
     "text": [
      "Aire: 12\n",
      "Perimetre: 14\n"
     ]
    }
   ],
   "source": [
    "class Rectangle:\n",
    "    def __init__(self,width,length):\n",
    "        self.width=width\n",
    "        self.length=length\n",
    "\n",
    "    def area(self):\n",
    "        return self.width*self.length\n",
    "    def perimeter(self):\n",
    "        return 2*(self.width+self.length)\n",
    "#creation d'une instance de Rectangle\n",
    "my_rectangle=Rectangle(3,4)\n",
    "\n",
    "#calcul et affichage de l'aire\n",
    "print(\"Aire:\", my_rectangle.area())\n",
    "\n",
    "#calcul et affichage du perimetre\n",
    "print(\"Perimetre:\", my_rectangle.perimeter())\n"
   ]
  },
  {
   "cell_type": "markdown",
   "id": "dda3b864-ab48-4cd3-b640-08dc31147a04",
   "metadata": {},
   "source": [
    "3"
   ]
  },
  {
   "cell_type": "code",
   "execution_count": 12,
   "id": "7186bef8-9b8b-4f56-a511-d174d467b8c0",
   "metadata": {},
   "outputs": [
    {
     "name": "stdout",
     "output_type": "stream",
     "text": [
      "Aire: 3.141592653589793\n",
      "Perimetre: 6.283185307179586\n"
     ]
    },
    {
     "ename": "TypeError",
     "evalue": "'int' object is not subscriptable",
     "output_type": "error",
     "traceback": [
      "\u001b[1;31m---------------------------------------------------------------------------\u001b[0m",
      "\u001b[1;31mTypeError\u001b[0m                                 Traceback (most recent call last)",
      "Cell \u001b[1;32mIn[12], line 29\u001b[0m\n\u001b[0;32m     27\u001b[0m \u001b[38;5;66;03m#verification si les points appartiennent au cercle\u001b[39;00m\n\u001b[0;32m     28\u001b[0m point_a\u001b[38;5;241m=\u001b[39m(\u001b[38;5;241m3\u001b[39m,\u001b[38;5;241m4\u001b[39m)\n\u001b[1;32m---> 29\u001b[0m \u001b[38;5;28;01mif\u001b[39;00m my_circle\u001b[38;5;241m.\u001b[39mis_inside(point_a[\u001b[38;5;241m0\u001b[39m],point_a[\u001b[38;5;241m1\u001b[39m]):\n\u001b[0;32m     30\u001b[0m     \u001b[38;5;28mprint\u001b[39m(\u001b[38;5;124m\"\u001b[39m\u001b[38;5;124mLe point\u001b[39m\u001b[38;5;124m\"\u001b[39m, point_a ,\u001b[38;5;124m\"\u001b[39m\u001b[38;5;124mappartient au cercle\u001b[39m\u001b[38;5;124m\"\u001b[39m)\n\u001b[0;32m     31\u001b[0m \u001b[38;5;28;01melse\u001b[39;00m:\n",
      "Cell \u001b[1;32mIn[12], line 13\u001b[0m, in \u001b[0;36mCircle.is_inside\u001b[1;34m(self, x, y)\u001b[0m\n\u001b[0;32m     12\u001b[0m \u001b[38;5;28;01mdef\u001b[39;00m \u001b[38;5;21mis_inside\u001b[39m(\u001b[38;5;28mself\u001b[39m,x,y):\n\u001b[1;32m---> 13\u001b[0m     distance\u001b[38;5;241m=\u001b[39mmath\u001b[38;5;241m.\u001b[39msqrt((x\u001b[38;5;241m-\u001b[39m\u001b[38;5;28mself\u001b[39m\u001b[38;5;241m.\u001b[39mcenter[\u001b[38;5;241m0\u001b[39m])\u001b[38;5;241m*\u001b[39m\u001b[38;5;241m*\u001b[39m\u001b[38;5;241m2\u001b[39m\u001b[38;5;241m+\u001b[39m(y\u001b[38;5;241m-\u001b[39m\u001b[38;5;28mself\u001b[39m\u001b[38;5;241m.\u001b[39mcenter[\u001b[38;5;241m1\u001b[39m])\u001b[38;5;241m*\u001b[39m\u001b[38;5;241m*\u001b[39m\u001b[38;5;241m2\u001b[39m)\n\u001b[0;32m     14\u001b[0m     \u001b[38;5;28;01mreturn\u001b[39;00m distance\u001b[38;5;241m<\u001b[39m\u001b[38;5;241m=\u001b[39m\u001b[38;5;28mself\u001b[39m\u001b[38;5;241m.\u001b[39mradius\n",
      "\u001b[1;31mTypeError\u001b[0m: 'int' object is not subscriptable"
     ]
    }
   ],
   "source": [
    "import math\n",
    "\n",
    "class Circle:\n",
    "    def __init__(self,center,radius):\n",
    "        self.center=center\n",
    "        self.radius=radius\n",
    "        \n",
    "    def area(self):\n",
    "        return math.pi*self.radius**2\n",
    "    def perimeter(self):\n",
    "        return 2*math.pi*self.radius\n",
    "    def is_inside(self,x,y):\n",
    "        distance=math.sqrt((x-self.center[0])**2+(y-self.center[1])**2)\n",
    "        return distance<=self.radius\n",
    "\n",
    "#creation d'une instance de Circle\n",
    "my_circle=Circle(0,1)\n",
    "\n",
    "#calcul et affichage de l'aire\n",
    "area=my_circle.area()\n",
    "print(\"Aire:\",area)\n",
    "\n",
    "#calcul et affichage du perimetre\n",
    "perimeter=my_circle.perimeter()\n",
    "print(\"Perimetre:\",perimeter)\n",
    "\n",
    "#verification si les points appartiennent au cercle\n",
    "point_a=(3,4)\n",
    "if my_circle.is_inside(point_a[0],point_a[1]):\n",
    "    print(\"Le point\", point_a ,\"appartient au cercle\")\n",
    "else:\n",
    "    print(\"Le point\",point_a,\"n'apparttient pas au cercle\")"
   ]
  },
  {
   "cell_type": "markdown",
   "id": "00e21080-b59a-4e6b-9de2-8f236414c853",
   "metadata": {},
   "source": [
    "4"
   ]
  },
  {
   "cell_type": "code",
   "execution_count": null,
   "id": "b8e99bea-6730-4c80-893f-c9fa17e6354f",
   "metadata": {},
   "outputs": [],
   "source": [
    "class Bank:\n",
    "    def __init(self,solde_initial):\n",
    "        self.solde=solde_initial\n",
    "    solde_initial=float(input(\"veulliez saisir votre solde initial\"))\n",
    "                        \n",
    "    def depot(self):\n",
    "        montant=float(input(\"veuillez saisir le montant a deposer\"))\n",
    "        self.solde+=montant\n",
    "        print(f'le nouveau solde apres depot est :{self.solde}')\n",
    "        return self.solde\n",
    "\n",
    "    def retrait(self):\n",
    "        montant=float(input(\"veuillez saisir le montant a retirer\"))\n",
    "        if montant<=self.solde:\n",
    "            self.solde-=montant\n",
    "            print(f'le nouveau solde apres retrait est :{self.solde}')\n",
    "        else:\n",
    "            print(\"Fonts insuffisant\")\n",
    "        return self.solde\n",
    "        "
   ]
  },
  {
   "cell_type": "code",
   "execution_count": null,
   "id": "42bdd1a6-1778-4f60-beae-8719f545f7e9",
   "metadata": {},
   "outputs": [],
   "source": []
  }
 ],
 "metadata": {
  "kernelspec": {
   "display_name": "Python 3 (ipykernel)",
   "language": "python",
   "name": "python3"
  },
  "language_info": {
   "codemirror_mode": {
    "name": "ipython",
    "version": 3
   },
   "file_extension": ".py",
   "mimetype": "text/x-python",
   "name": "python",
   "nbconvert_exporter": "python",
   "pygments_lexer": "ipython3",
   "version": "3.12.7"
  }
 },
 "nbformat": 4,
 "nbformat_minor": 5
}
