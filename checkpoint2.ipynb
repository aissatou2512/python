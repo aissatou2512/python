{
 "cells": [
  {
   "cell_type": "code",
   "execution_count": 11,
   "id": "1585f269-03c6-4354-8494-81c2160419c3",
   "metadata": {},
   "outputs": [
    {
     "name": "stdout",
     "output_type": "stream",
     "text": [
      "36\n"
     ]
    }
   ],
   "source": [
    "#question 1\n",
    "import math\n",
    "\n",
    "liste1=[2,3,6]\n",
    "\n",
    "produit=math.prod(liste1)\n",
    "print(produit) #2*3*6"
   ]
  },
  {
   "cell_type": "code",
   "execution_count": 13,
   "id": "4316012b-a5d5-4820-bc4a-93564c659214",
   "metadata": {},
   "outputs": [
    {
     "name": "stdout",
     "output_type": "stream",
     "text": [
      "liste triee: [(2, 1), (1, 2), (2, 3), (4, 4), (2, 5)]\n"
     ]
    }
   ],
   "source": [
    "#question 2\n",
    "liste2=[(2,5),(1,2),(4,4),(2,3),(2,1)]\n",
    "\n",
    "liste_triee=sorted(liste2, key=lambda x: x[-1])\n",
    "print(\"liste triee:\",liste_triee)"
   ]
  },
  {
   "cell_type": "code",
   "execution_count": 4,
   "id": "422ba0de-dd15-43ea-a55b-1e2e29f898b7",
   "metadata": {},
   "outputs": [
    {
     "name": "stdout",
     "output_type": "stream",
     "text": [
      "{'a': 400, 'b': 400}\n"
     ]
    }
   ],
   "source": [
    "#question3\n",
    "d1 = {'a': 100, 'b' : 200, 'c':300}\n",
    "d2 = {'a': 300, 'b' : 200, 'd':400}\n",
    "\n",
    "result={key: d1[key]+d2[key] for key in d1 if key in d2}\n",
    "\n",
    "print(result)"
   ]
  },
  {
   "cell_type": "code",
   "execution_count": 5,
   "id": "dd5479c6-289b-4338-999e-5319e03de5b8",
   "metadata": {},
   "outputs": [
    {
     "name": "stdout",
     "output_type": "stream",
     "text": [
      "{'a': 400, 'b': 400, 'c': 300}\n"
     ]
    }
   ],
   "source": [
    "result['c']=300\n",
    "print(result)"
   ]
  },
  {
   "cell_type": "code",
   "execution_count": 6,
   "id": "3b3cafd0-b330-4be4-ba6a-a4511bf27066",
   "metadata": {},
   "outputs": [
    {
     "name": "stdout",
     "output_type": "stream",
     "text": [
      "{'a': 400, 'b': 400, 'c': 300, 'd': 400}\n"
     ]
    }
   ],
   "source": [
    "result['d']=400\n",
    "print(result)"
   ]
  },
  {
   "cell_type": "code",
   "execution_count": 9,
   "id": "3a88d96c-dbd0-4946-af56-66e63a12f9d0",
   "metadata": {},
   "outputs": [
    {
     "name": "stdin",
     "output_type": "stream",
     "text": [
      "Saisissez un nombre entier 8\n"
     ]
    },
    {
     "name": "stdout",
     "output_type": "stream",
     "text": [
      "{1: 1, 2: 4, 3: 9, 4: 16, 5: 25, 6: 36, 7: 49, 8: 64}\n"
     ]
    }
   ],
   "source": [
    "#question4\n",
    "n=int(input(\"Saisissez un nombre entier\"))\n",
    "dict={i:i*i for i in range(1,n+1)}\n",
    "print(dict)"
   ]
  },
  {
   "cell_type": "code",
   "execution_count": 11,
   "id": "0131b535-1646-4292-a69f-2b7a254289fc",
   "metadata": {},
   "outputs": [
    {
     "name": "stdout",
     "output_type": "stream",
     "text": [
      "[('item3', '24.5'), ('item2', '15.10'), ('item1', '12.20')]\n"
     ]
    }
   ],
   "source": [
    "#question5\n",
    "list=[('item1','12.20'),('item2','15.10'),('item3','24.5')]\n",
    "list.sort(key=lambda x:float(x[1]), reverse=True)\n",
    "print(list)"
   ]
  },
  {
   "cell_type": "code",
   "execution_count": 5,
   "id": "a38da01b-8d1f-46fb-95bb-52f09fc70350",
   "metadata": {},
   "outputs": [
    {
     "name": "stdout",
     "output_type": "stream",
     "text": [
      "{0, 1, 2, 3, 4}\n"
     ]
    }
   ],
   "source": [
    "#question6 \n",
    "ensemble1={0,1,2,3,4}\n",
    "print(ensemble1)\n"
   ]
  },
  {
   "cell_type": "code",
   "execution_count": 16,
   "id": "644e5df2-7e4a-4d37-9753-141dbc6adb8a",
   "metadata": {},
   "outputs": [
    {
     "name": "stdout",
     "output_type": "stream",
     "text": [
      "Element : 0\n",
      "Element : 1\n",
      "Element : 2\n",
      "Element : 3\n",
      "Element : 4\n"
     ]
    }
   ],
   "source": [
    "#iterer sur un ensemble\n",
    "for element in ensemble1:\n",
    "    print(f\"Element : {element}\")"
   ]
  },
  {
   "cell_type": "code",
   "execution_count": 17,
   "id": "306288d8-b678-4e2f-9ce6-358333364eb2",
   "metadata": {},
   "outputs": [
    {
     "name": "stdout",
     "output_type": "stream",
     "text": [
      "{0, 1, 2, 3, 4, 5}\n"
     ]
    }
   ],
   "source": [
    "#ajuter un element de l'ensemble\n",
    "ensemble1.add(5)\n",
    "print(ensemble1)"
   ]
  },
  {
   "cell_type": "code",
   "execution_count": 18,
   "id": "f4f81b68-520d-4ba4-a921-c40bbbcf16f4",
   "metadata": {},
   "outputs": [
    {
     "name": "stdout",
     "output_type": "stream",
     "text": [
      "{0, 1, 3, 4, 5}\n"
     ]
    }
   ],
   "source": [
    "#supprimer un element de l'ensemble\n",
    "ensemble1.remove(2)\n",
    "print(ensemble1)"
   ]
  }
 ],
 "metadata": {
  "kernelspec": {
   "display_name": "Python 3 (ipykernel)",
   "language": "python",
   "name": "python3"
  },
  "language_info": {
   "codemirror_mode": {
    "name": "ipython",
    "version": 3
   },
   "file_extension": ".py",
   "mimetype": "text/x-python",
   "name": "python",
   "nbconvert_exporter": "python",
   "pygments_lexer": "ipython3",
   "version": "3.12.7"
  }
 },
 "nbformat": 4,
 "nbformat_minor": 5
}
